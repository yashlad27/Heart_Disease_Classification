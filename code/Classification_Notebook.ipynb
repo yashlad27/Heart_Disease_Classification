{
 "cells": [
  {
   "cell_type": "markdown",
   "source": [
    "# Predicting heart disease using machine learning:\n",
    "\n",
    "this notebook looks into using various python-based machine learning and data science libraries in an attempt to build a machine learning model capable of predicting whether or not someone has heart disease based on their medical attributes\n",
    "\n",
    "we are going to take the following approach:\n",
    "1. Problem definition\n",
    "2. data\n",
    "3. Evaluation\n",
    "4. features\n",
    "5. modelling\n",
    "6. experimentation\n",
    "\n",
    "## 1. Problem Definition:\n",
    "In a statement,\n",
    "> Given clinical parameters about a patient, can we predict whether or not they have heart disease?\n",
    "\n",
    "## 2. Data:\n",
    "Original data came from the Cleveland data from the UCI Machine learning Repo.\n",
    "\n",
    "There is also a version of it available on Kaggle.\n",
    "https://www.kaggle.com/datasets/cherngs/heart-disease-cleveland-uci\n",
    "\n",
    "## 3. Evaluation:\n",
    "\n",
    "> If we can reach 95% accuracy at predicting whether or not a patient has heart disease during the proof of concept, we will pursue the project.\n",
    "\n",
    "## 4. Features:\n",
    "This is where you get different information about each features in our data.\n",
    "***create a data dictionary:***\n",
    "\n",
    "   * age: age in years\n",
    "   * sex: sex (1 = male; 0 = female)\n",
    "   * cp: chest pain type\n",
    "    -- Value 0: typical angina\n",
    "    -- Value 1: atypical angina\n",
    "    -- Value 2: non-anginal pain\n",
    "    -- Value 3: asymptomatic\n",
    "   * trestbps: resting blood pressure (in mm Hg on admission to the hospital)\n",
    "   * chol: serum cholestoral in mg/dl\n",
    "   * fbs: (fasting blood sugar > 120 mg/dl) (1 = true; 0 = false)\n",
    "   * restecg: resting electrocardiographic results\n",
    "    -- Value 0: normal\n",
    "    -- Value 1: having ST-T wave abnormality (T wave inversions and/or ST elevation or depression of > 0.05 mV)\n",
    "    -- Value 2: showing probable or definite left ventricular hypertrophy by Estes' criteria\n",
    "   * thalach: maximum heart rate achieved\n",
    "   * exang: exercise induced angina (1 = yes; 0 = no)\n",
    "   * oldpeak = ST depression induced by exercise relative to rest\n",
    "   * slope: the slope of the peak exercise ST segment\n",
    "    -- Value 0: upsloping\n",
    "    -- Value 1: flat\n",
    "    -- Value 2: downsloping\n",
    "   * ca: number of major vessels (0-3) colored by flourosopy\n",
    "   * thal: 0 = normal; 1 = fixed defect; 2 = reversable defect\n",
    "    and the label\n",
    "   * condition: 0 = no disease, 1 = disease\n",
    "\n",
    "\n"
   ],
   "metadata": {
    "collapsed": false
   }
  },
  {
   "cell_type": "markdown",
   "source": [
    "\n"
   ],
   "metadata": {
    "collapsed": false
   }
  },
  {
   "cell_type": "code",
   "execution_count": 1,
   "outputs": [],
   "source": [
    "## Prepare the tools:\n",
    "\n",
    "# Regular EDA and plotting libs:\n",
    "import numpy as np\n",
    "import pandas as pd\n",
    "import matplotlib.pyplot as plt\n",
    "import seaborn as sns\n",
    "%matplotlib inline\n",
    "\n",
    "# Models from Scikit-learn:\n",
    "from sklearn.linear_model import LogisticRegression\n",
    "from sklearn.neighbors import KNeighborsClassifier\n",
    "from sklearn.ensemble import RandomForestClassifier\n",
    "\n",
    "# Model Evaluations:\n",
    "from sklearn.model_selection import train_test_split, cross_val_score\n",
    "from sklearn.model_selection import RandomizedSearchCV, GridSearchCV\n",
    "from sklearn.metrics import confusion_matrix, classification_report\n",
    "from sklearn.metrics import precision_score, recall_score, f1_score\n",
    "from sklearn.metrics import plot_roc_curve"
   ],
   "metadata": {
    "collapsed": false
   }
  },
  {
   "cell_type": "code",
   "execution_count": null,
   "outputs": [],
   "source": [],
   "metadata": {
    "collapsed": false
   }
  }
 ],
 "metadata": {
  "kernelspec": {
   "display_name": "Python 3",
   "language": "python",
   "name": "python3"
  },
  "language_info": {
   "codemirror_mode": {
    "name": "ipython",
    "version": 2
   },
   "file_extension": ".py",
   "mimetype": "text/x-python",
   "name": "python",
   "nbconvert_exporter": "python",
   "pygments_lexer": "ipython2",
   "version": "2.7.6"
  }
 },
 "nbformat": 4,
 "nbformat_minor": 0
}
